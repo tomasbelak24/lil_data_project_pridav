{
 "cells": [
  {
   "cell_type": "markdown",
   "id": "7806f7b2",
   "metadata": {},
   "source": [
    "# Importing libraries"
   ]
  },
  {
   "cell_type": "code",
   "execution_count": null,
   "id": "3c1bd407",
   "metadata": {},
   "outputs": [],
   "source": [
    "import sqlite3\n",
    "import pandas as pd\n",
    "import matplotlib.pyplot as plt\n",
    "import seaborn as sns\n",
    "import numpy as np"
   ]
  },
  {
   "cell_type": "markdown",
   "id": "d02d8d2b",
   "metadata": {},
   "source": [
    "# Data Cleaning and Preprocessing"
   ]
  },
  {
   "cell_type": "code",
   "execution_count": null,
   "id": "4e2453de",
   "metadata": {},
   "outputs": [],
   "source": [
    "# Connect to SQLite database\n",
    "conn = sqlite3.connect('films.db')\n",
    "# Querying the database\n",
    "\n",
    "#Here we convert from sql tables to pandas tables\n",
    "query = \"SELECT * FROM title_ratings WHERE tconst IN (SELECT tb.tconst FROM title_basics AS tb WHERE tb.titleType = 'movie')\"\n",
    "df_title_ratings = pd.read_sql_query(query, conn)\n",
    "df_title_ratings.replace(\"\\\\N\", np.nan, inplace=True)\n",
    "\n",
    "query = \"SELECT nconst, primaryName FROM name_basics\"\n",
    "df_name_basics = pd.read_sql_query(query, conn)\n",
    "df_name_basics.replace(\"\\\\N\", np.nan, inplace=True)\n",
    "\n",
    "query = \"SELECT titleid, COUNT(CASE WHEN isOriginalTitle = 0 THEN 1 END) AS pocet_prekladov FROM title_akas GROUP BY titleid\"\n",
    "df_title_akas = pd.read_sql_query(query, conn)\n",
    "df_title_akas.replace(\"\\\\N\", np.nan, inplace=True)\n",
    "\n",
    "query = \"SELECT tconst, primaryTitle, isAdult, startYear, runtimeMinutes, genres  FROM title_basics WHERE titleType = 'movie'\"\n",
    "df_title_basics = pd.read_sql_query(query, conn)\n",
    "df_title_basics.replace(\"\\\\N\", np.nan, inplace=True)\n",
    "\n",
    "\n",
    "query = \"\"\"SELECT tconst, nconst, category \n",
    "            FROM title_principals \n",
    "            WHERE (category = 'actor' OR category = 'director') \n",
    "            AND tconst IN (SELECT tb.tconst FROM title_basics AS tb WHERE tb.titleType = 'movie')\"\"\"\n",
    "df_title_principals = pd.read_sql_query(query, conn)\n",
    "# Close the connection\n",
    "conn.close()\n",
    "\n",
    "#additional datasources \n",
    "df_top_actors = pd.read_csv('top20actors.csv')\n",
    "df_best_directors = pd.read_csv('best_directors.csv')\n",
    "df_worst_directors = pd.read_csv('worst_directors.csv')\n",
    "df_disability = pd.read_csv('movies_disability.csv')"
   ]
  },
  {
   "cell_type": "code",
   "execution_count": null,
   "id": "9b422010",
   "metadata": {},
   "outputs": [],
   "source": [
    "df_title_principals.head()"
   ]
  },
  {
   "cell_type": "code",
   "execution_count": null,
   "id": "e52de7e6",
   "metadata": {},
   "outputs": [],
   "source": [
    "df_title_ratings.head()"
   ]
  },
  {
   "cell_type": "code",
   "execution_count": null,
   "id": "98cd4295",
   "metadata": {},
   "outputs": [],
   "source": [
    "df_title_akas.head()"
   ]
  },
  {
   "cell_type": "code",
   "execution_count": null,
   "id": "de6bb2d0",
   "metadata": {},
   "outputs": [],
   "source": [
    "#Here we create a year_diff\n",
    "df_title_basics['year_diff'] = df_title_basics['startYear']\n",
    "df_title_basics['year_diff'] = df_title_basics['year_diff'].apply(lambda x: 2024 - int(x) if pd.notna(x) else np.nan)\n",
    "df_title_basics.head()"
   ]
  },
  {
   "cell_type": "markdown",
   "id": "5585fafc",
   "metadata": {},
   "source": [
    "### Defining \"oblubenost\" (score)"
   ]
  },
  {
   "cell_type": "code",
   "execution_count": null,
   "id": "7d9b6500",
   "metadata": {},
   "outputs": [],
   "source": [
    "#log_score = avgRating*log(numvotes)\n",
    "#norm_score = (avgRating/max(avgRating))*(numVotes/max(numVotes))\n",
    "#prag_score = (avgRating*numVotes)/(avg(avgRating)*(avg(numVotes)))\n",
    "df_title_ratings['log_score'] = df_title_ratings['averageRating'] * np.log(df_title_ratings['numVotes'])\n",
    "df_title_ratings['norm_score'] = (df_title_ratings['averageRating'] / max(df_title_ratings['averageRating'])) * (df_title_ratings['numVotes'] / max(df_title_ratings['numVotes']))\n",
    "df_title_ratings['prag_score'] = (df_title_ratings['averageRating'] * df_title_ratings['numVotes']) / (np.mean(df_title_ratings['averageRating']) * np.mean(df_title_ratings['numVotes'])) "
   ]
  },
  {
   "cell_type": "code",
   "execution_count": null,
   "id": "e9386c8c",
   "metadata": {},
   "outputs": [],
   "source": [
    "df_title_ratings.describe()"
   ]
  },
  {
   "cell_type": "code",
   "execution_count": null,
   "id": "a767cf09",
   "metadata": {},
   "outputs": [],
   "source": [
    "df = df_title_ratings[df_title_ratings['log_score'] > 130]\n",
    "df.sort_values(by=['log_score'])"
   ]
  },
  {
   "cell_type": "code",
   "execution_count": null,
   "id": "24e8fc21",
   "metadata": {},
   "outputs": [],
   "source": [
    "df_title_ratings = df_title_ratings.drop('norm_score', axis=1)\n",
    "df_title_ratings = df_title_ratings.drop('prag_score', axis=1)"
   ]
  },
  {
   "cell_type": "code",
   "execution_count": null,
   "id": "24daf237",
   "metadata": {},
   "outputs": [],
   "source": [
    "df_title_basics.head()"
   ]
  },
  {
   "cell_type": "markdown",
   "id": "2de1528d",
   "metadata": {},
   "source": [
    "### Creating a bigger unified table \"df_films\""
   ]
  },
  {
   "cell_type": "code",
   "execution_count": null,
   "id": "1429df8f",
   "metadata": {
    "tags": [
     "parameters"
    ]
   },
   "outputs": [],
   "source": [
    "#here we join title_rating with title_akas on tconst\n",
    "df_films = df_title_ratings.set_index('tconst').join(df_title_akas.set_index('titleId'), how='inner')\n",
    "df_films = df_films.join(df_title_basics.set_index('tconst'), how='inner')\n",
    "\n",
    "df_films['startYear'] = df_films['startYear'].apply(lambda x: int(x) if pd.notna(x) else np.nan)\n",
    "df_films['runtimeMinutes'] = df_films['runtimeMinutes'].apply(lambda x: int(x) if pd.notna(x) else np.nan)\n",
    "df_films['isAdult'] = df_films['isAdult'].apply(lambda x: int(x) if pd.notna(x) else np.nan)\n",
    "\n",
    "df_films.head()"
   ]
  },
  {
   "cell_type": "code",
   "execution_count": null,
   "id": "ba381d62",
   "metadata": {},
   "outputs": [],
   "source": [
    "df_films.columns"
   ]
  },
  {
   "cell_type": "code",
   "execution_count": null,
   "id": "321bd72d",
   "metadata": {},
   "outputs": [],
   "source": [
    "df_films.describe()"
   ]
  },
  {
   "cell_type": "markdown",
   "id": "47abdcd1",
   "metadata": {},
   "source": [
    "### Creating a table for genre combinations"
   ]
  },
  {
   "cell_type": "code",
   "execution_count": null,
   "id": "7ef5a557",
   "metadata": {},
   "outputs": [],
   "source": [
    "df_genre_log = df_films.loc[:, ['primaryTitle', 'averageRating', 'numVotes', 'log_score', 'genres']]\n",
    "df_genre_log['genres'] = df_genre_log['genres'].str.split(',')\n",
    "df_genre_log['genres'] = df_genre_log['genres'].apply(lambda x: \",\".join(sorted(x)) if isinstance(x, list) else np.nan)\n",
    "df_genre_log.head()"
   ]
  },
  {
   "cell_type": "code",
   "execution_count": null,
   "id": "7ad4d9c4",
   "metadata": {},
   "outputs": [],
   "source": [
    "df_genre_log['genres'].value_counts()"
   ]
  },
  {
   "cell_type": "code",
   "execution_count": null,
   "id": "5faab269",
   "metadata": {},
   "outputs": [],
   "source": [
    "# Filter rows where 'genres' contains a comma\n",
    "df_genre_combinations = df_genre_log[df_genre_log['genres'].str.contains(\",\", na=False)]\n",
    "df_genre_count = df_genre_combinations['genres'].value_counts()\n",
    "df_genre_combinations = list(df_genre_count[df_genre_count >= 1000].index)"
   ]
  },
  {
   "cell_type": "code",
   "execution_count": null,
   "id": "24a0d466",
   "metadata": {},
   "outputs": [],
   "source": [
    "df_filtered_genres = df_genre_log[df_genre_log['genres'].isin(df_genre_combinations)]\n",
    "df_filtered_genres"
   ]
  },
  {
   "cell_type": "markdown",
   "id": "ebbf479f",
   "metadata": {},
   "source": [
    "### One-hot encoding"
   ]
  },
  {
   "cell_type": "code",
   "execution_count": null,
   "id": "e3be3776",
   "metadata": {},
   "outputs": [],
   "source": [
    "df_one_hot = pd.get_dummies(df_filtered_genres, columns=['genres'], prefix='', prefix_sep='')\n",
    "df_first_part = df_one_hot.iloc[:, :2].reset_index() \n",
    "df_second_part = df_one_hot.iloc[:, 2:].reset_index()   \n",
    "\n",
    "df_first_grouped = df_first_part.groupby('index', as_index=False).first()\n",
    "\n",
    "df_second_grouped = df_second_part.groupby('index', as_index=False).sum()\n",
    "\n",
    "df_filtered_genres = pd.concat([df_first_grouped, df_second_grouped], axis=1)\n",
    "\n",
    "df_filtered_genres = df_filtered_genres.loc[:,~df_filtered_genres.columns.duplicated()]\n",
    "df_filtered_genres = df_filtered_genres.set_index('index')\n",
    "\n",
    "df_filtered_genres.head()"
   ]
  },
  {
   "cell_type": "markdown",
   "id": "bb337a8c",
   "metadata": {},
   "source": [
    "### Making columns from genres in table \"db_films\""
   ]
  },
  {
   "cell_type": "code",
   "execution_count": null,
   "id": "4468b1f0",
   "metadata": {},
   "outputs": [],
   "source": [
    "# Split and explode the 'genres' column\n",
    "df_films['genres'] = df_films['genres'].str.split(',')\n",
    "df_exploded = df_films.explode('genres')\n",
    "\n",
    "df_one_hot = pd.get_dummies(df_exploded, columns=['genres'], prefix='', prefix_sep='')\n",
    "# Split the DataFrame into two parts\n",
    "df_first_part = df_one_hot.iloc[:, :9].reset_index()  \n",
    "df_second_part = df_one_hot.iloc[:, 9:].reset_index() \n",
    "\n",
    "# Apply groupby and first on the first part\n",
    "df_first_grouped = df_first_part.groupby('index', as_index=False).first()\n",
    "\n",
    "# Apply groupby and sum on the second part\n",
    "df_second_grouped = df_second_part.groupby('index', as_index=False).sum()\n",
    "\n",
    "# Concatenate the two DataFrames along the columns axis\n",
    "df_films = pd.concat([df_first_grouped, df_second_grouped], axis=1)\n",
    "\n",
    "# Dropping duplicate columns (as 'index' will be duplicated)\n",
    "df_films = df_films.loc[:,~df_films.columns.duplicated()]\n",
    "df_films.rename(columns={'index': 'tconst'}, inplace=True)\n",
    "#df_films = df_films.set_index('index')\n",
    "\n",
    "df_films.head()"
   ]
  },
  {
   "cell_type": "markdown",
   "id": "74138c48",
   "metadata": {},
   "source": [
    "# Preparing data with actors"
   ]
  },
  {
   "cell_type": "code",
   "execution_count": null,
   "id": "5f053cdf",
   "metadata": {},
   "outputs": [],
   "source": [
    "#here we separate best actors from all actors\n",
    "df_top_actors['nconst']\n",
    "df_films_with_top_actors = df_title_principals[df_title_principals['nconst'].isin(df_top_actors['nconst'])]\n",
    "df_films_with_top_actors = df_films_with_top_actors[df_films_with_top_actors['category'] != 'director']\n",
    "df_films_with_top_actors['category'].value_counts()\n"
   ]
  },
  {
   "cell_type": "code",
   "execution_count": null,
   "id": "fd7eb59e",
   "metadata": {},
   "outputs": [],
   "source": [
    "#here we separate necessary values\n",
    "merged_df = pd.merge(df_films_with_top_actors, df_top_actors, on='nconst', how='left')\n",
    "\n",
    "result_df = merged_df.drop('nconst', axis=1)\n",
    "result_df = result_df.drop('category', axis=1)\n",
    "\n",
    "result_df = pd.merge(result_df, df_films.loc[:, ['tconst', 'averageRating','numVotes', 'log_score']], on='tconst', how='left')\n",
    "\n",
    "result_df.head()"
   ]
  },
  {
   "cell_type": "code",
   "execution_count": null,
   "id": "857a9a00",
   "metadata": {},
   "outputs": [],
   "source": [
    "#One-hot encoding\n",
    "df_actors = pd.get_dummies(result_df, columns=['name'], prefix='', prefix_sep='')\n",
    "df_actors.head()"
   ]
  },
  {
   "cell_type": "markdown",
   "id": "ad7d8d2e",
   "metadata": {},
   "source": [
    "### Preparing data for directors (best and worst)"
   ]
  },
  {
   "cell_type": "code",
   "execution_count": null,
   "id": "a65b962c",
   "metadata": {},
   "outputs": [],
   "source": [
    "#best directors\n",
    "df_best_directors = df_best_directors.iloc[:17, :]\n",
    "df_merges = df_title_principals[df_title_principals['nconst'].isin(df_best_directors['nconst'])]\n",
    "print(df_merges['category'].value_counts())\n",
    "df_merges = df_merges[df_merges['category'] != 'actor']\n",
    "df_merges.head()\n",
    "\n",
    "merged_best_directors = pd.merge(df_merges, df_films.loc[:, ['tconst', 'log_score']], on='tconst', how='inner')\n",
    "#worst directors\n",
    "df_merges = df_title_principals[df_title_principals['nconst'].isin(df_worst_directors['nconst'])]\n",
    "print(df_merges['category'].value_counts())\n",
    "print(df_merges[df_merges['nconst'].isin(['nm0000219', 'nm1382072', 'nm3718935'])])\n",
    "df_merges = df_merges[df_merges['category'] != 'actor']\n",
    "df_merges.head()\n",
    "\n",
    "merged_worst_directors = pd.merge(df_merges, df_films.loc[:, ['tconst', 'log_score']], on='tconst', how='inner')\n",
    "\n",
    "#df_films = df_films.set_index('tconst')"
   ]
  },
  {
   "cell_type": "code",
   "execution_count": null,
   "id": "45baa8c7",
   "metadata": {},
   "outputs": [],
   "source": [
    "merged_best_directors.head()"
   ]
  },
  {
   "cell_type": "code",
   "execution_count": null,
   "id": "a017b9ad",
   "metadata": {},
   "outputs": [],
   "source": [
    "merged_worst_directors.head()"
   ]
  },
  {
   "cell_type": "code",
   "execution_count": null,
   "id": "6da8267b",
   "metadata": {},
   "outputs": [],
   "source": [
    "#Getting avg_log_score from each of best and worst directors\n",
    "avg_ls_best = merged_best_directors.groupby('nconst')['log_score'].mean().reset_index()\n",
    "avg_ls_best.rename(columns={'log_score': 'avg_log_score'}, inplace=True)\n",
    "print(avg_ls_best)\n",
    "\n",
    "avg_ls_worst = merged_worst_directors.groupby('nconst')['log_score'].mean().reset_index()\n",
    "avg_ls_worst.rename(columns={'log_score': 'avg_log_score'}, inplace=True)\n",
    "\n",
    "avg_ls_worst"
   ]
  },
  {
   "cell_type": "code",
   "execution_count": null,
   "id": "b23cb9b6",
   "metadata": {},
   "outputs": [],
   "source": [
    "print(df_worst_directors[~df_worst_directors['nconst'].isin(avg_ls_worst['nconst'])])"
   ]
  },
  {
   "cell_type": "markdown",
   "id": "7efbba9d",
   "metadata": {},
   "source": [
    "# Exploratory Data Analysis (EDA)"
   ]
  },
  {
   "cell_type": "code",
   "execution_count": null,
   "id": "6928166a",
   "metadata": {},
   "outputs": [],
   "source": [
    "df_films = df_films.set_index('tconst')\n",
    "df_films.describe()"
   ]
  },
  {
   "cell_type": "code",
   "execution_count": null,
   "id": "476beca7",
   "metadata": {},
   "outputs": [],
   "source": [
    "print(df_films.iloc[:, 9:].columns.tolist())"
   ]
  },
  {
   "cell_type": "code",
   "execution_count": null,
   "id": "2d6b0bdb",
   "metadata": {},
   "outputs": [],
   "source": [
    "# Basic data exploration\n",
    "print(df_films.shape)\n",
    "print(df_films.dtypes)"
   ]
  },
  {
   "cell_type": "code",
   "execution_count": null,
   "id": "e0672c54",
   "metadata": {},
   "outputs": [],
   "source": [
    "df_films.isna().sum().sort_values(ascending=False)"
   ]
  },
  {
   "cell_type": "code",
   "execution_count": null,
   "id": "75d7ea23",
   "metadata": {},
   "outputs": [],
   "source": [
    "# Univariate Analysis\n",
    "fig, ax = plt.subplots()\n",
    "df_films['log_score'].hist(bins = 50)\n",
    "ax.set(xlabel=\"Log skóre\", ylabel=\"Počet filmov\", title=\"Rozdelenie log skóre\")\n",
    "plt.show()\n",
    "\n",
    "fig, ax = plt.subplots()\n",
    "sns.boxplot(y='log_score', data=df_films)\n",
    "ax.set(ylabel=\"Log skóre\", title=\"Rozdelenie log skóre\")\n",
    "plt.show()"
   ]
  },
  {
   "cell_type": "code",
   "execution_count": null,
   "id": "2c2c53e7",
   "metadata": {},
   "outputs": [],
   "source": [
    "categorical_columns = ['Action', 'Adult', 'Adventure', 'Animation', 'Biography', 'Comedy', \n",
    "                       'Crime', 'Documentary', 'Drama', 'Family', 'Fantasy', 'Film-Noir', 'Game-Show', \n",
    "                       'History', 'Horror', 'Music', 'Musical', 'Mystery', 'News', 'Reality-TV', 'Romance', \n",
    "                       'Sci-Fi', 'Sport', 'Talk-Show', 'Thriller', 'War', 'Western']\n",
    "\n",
    "category_counts = df_films[categorical_columns].sum()\n",
    "\n",
    "category_counts_sorted = category_counts.sort_values(ascending=False)\n",
    "\n",
    "# Ploting the counts in a single bar plot\n",
    "category_counts_sorted.plot(kind='bar', figsize=(15, 7))\n",
    "plt.title('Počet filmov v jednotlivých kategóriách')\n",
    "# plt.xlabel('Category')\n",
    "# plt.ylabel('Count')\n",
    "plt.show()"
   ]
  },
  {
   "cell_type": "code",
   "execution_count": null,
   "id": "e88af3fe",
   "metadata": {},
   "outputs": [],
   "source": [
    "import plotly.express as px\n",
    "\n",
    "genre_counts = df_exploded.groupby(['startYear', 'genres']).size().reset_index(name='count')\n",
    "\n",
    "\n",
    "fig = px.line(genre_counts, x='startYear', y='count', color='genres', title='Number of Films per Genre Over Years')\n",
    "fig.show()\n"
   ]
  },
  {
   "cell_type": "code",
   "execution_count": null,
   "id": "5a65e639",
   "metadata": {},
   "outputs": [],
   "source": [
    "# Bivariate Analysis\n",
    "sns.scatterplot(x='startYear', y='log_score', data=df_films)\n",
    "plt.show()"
   ]
  },
  {
   "cell_type": "code",
   "execution_count": null,
   "id": "a203666f",
   "metadata": {},
   "outputs": [],
   "source": [
    "columns = list(categorical_columns)\n",
    "columns = ['averageRating', 'numVotes', 'log_score'] + columns\n",
    "df_film_genres = df_films.loc[:, columns]\n",
    "df_film_genres.head()"
   ]
  },
  {
   "cell_type": "code",
   "execution_count": null,
   "id": "2286f118",
   "metadata": {},
   "outputs": [],
   "source": [
    "corr_matrix = df_film_genres.corr(numeric_only = True)\n",
    "corr_matrix"
   ]
  },
  {
   "cell_type": "code",
   "execution_count": null,
   "id": "cbc154ec",
   "metadata": {},
   "outputs": [],
   "source": [
    "fig, ax = plt.subplots(figsize=(8, 7))\n",
    "sns.heatmap(corr_matrix.iloc[3:, :3], vmin=-1, vmax=1)\n",
    "ax.set_title(\"Korelácia žánru so skóre\")\n",
    "ax.set_xticklabels([\"Priemerné skóre\", \"Počet hlasov\", \"Log skóre\"])\n",
    "plt.show()"
   ]
  },
  {
   "cell_type": "code",
   "execution_count": null,
   "id": "679128d1",
   "metadata": {},
   "outputs": [],
   "source": [
    "print(corr_matrix[\"log_score\"].iloc[3:].sort_values(ascending=False).describe().to_markdown()) #.describe().to_markdown()"
   ]
  },
  {
   "cell_type": "code",
   "execution_count": null,
   "id": "d45b5025",
   "metadata": {},
   "outputs": [],
   "source": [
    "corr_matrix = df_filtered_genres.corr(numeric_only = True)\n",
    "corr_matrix"
   ]
  },
  {
   "cell_type": "code",
   "execution_count": null,
   "id": "dcd81c49",
   "metadata": {},
   "outputs": [],
   "source": [
    "fig, ax = plt.subplots(figsize=(8, 7))\n",
    "sns.heatmap(corr_matrix.iloc[3:, :3], vmin=-1, vmax=1)\n",
    "ax.set_title(\"Korelácia skupiny žánrov so skóre\")\n",
    "ax.set_xticklabels([\"Priemerné skóre\", \"Počet hlasov\", \"Log skóre\"])\n",
    "plt.show()\n"
   ]
  },
  {
   "cell_type": "code",
   "execution_count": null,
   "id": "49ca29c3",
   "metadata": {},
   "outputs": [],
   "source": [
    "print(corr_matrix[\"log_score\"].iloc[3:].sort_values(ascending=False).head(10).to_markdown()) #.describe().to_markdown()"
   ]
  },
  {
   "cell_type": "code",
   "execution_count": null,
   "id": "6fc1bfff",
   "metadata": {},
   "outputs": [],
   "source": [
    "df_film_stats = df_films.iloc[:, :9]\n",
    "df_film_stats.head()"
   ]
  },
  {
   "cell_type": "code",
   "execution_count": null,
   "id": "cb51049f",
   "metadata": {},
   "outputs": [],
   "source": [
    "# Correlation Matrix\n",
    "corr_matrix = df_film_stats.corr(numeric_only = True)\n",
    "corr_matrix"
   ]
  },
  {
   "cell_type": "code",
   "execution_count": null,
   "id": "35e4fcc6",
   "metadata": {},
   "outputs": [],
   "source": [
    "sns.heatmap(corr_matrix[[\"log_score\"]], vmin=-1, vmax=1 )\n",
    "plt.show()"
   ]
  },
  {
   "cell_type": "code",
   "execution_count": null,
   "id": "9b2d52b4",
   "metadata": {},
   "outputs": [],
   "source": [
    "sns.scatterplot(x='runtimeMinutes', y='log_score', \n",
    "                data=df_film_stats[(df_film_stats['runtimeMinutes'] < 480)])\n",
    "plt.show()"
   ]
  },
  {
   "cell_type": "code",
   "execution_count": null,
   "id": "ae71a200",
   "metadata": {},
   "outputs": [],
   "source": [
    "# Pair Plot\n",
    "sns.pairplot(df_film_stats[(df_film_stats['runtimeMinutes'] < 480)], diag_kind='kde')\n",
    "plt.show()"
   ]
  },
  {
   "cell_type": "markdown",
   "id": "89e3c4d4",
   "metadata": {},
   "source": [
    "# Statistical Analysis"
   ]
  },
  {
   "cell_type": "code",
   "execution_count": null,
   "id": "ce3aa429",
   "metadata": {},
   "outputs": [],
   "source": [
    "from scipy import stats"
   ]
  },
  {
   "cell_type": "markdown",
   "id": "fe07b3d3",
   "metadata": {},
   "source": [
    "### Functions"
   ]
  },
  {
   "cell_type": "code",
   "execution_count": null,
   "id": "09b3d18a",
   "metadata": {},
   "outputs": [],
   "source": [
    "def test_normality(data):\n",
    "    if len(data) <= 5000:\n",
    "        stat, p_value = stats.shapiro(data)\n",
    "        print(f'Shapiro-Wilk Test: Statistics={stat}, p-value={p_value}')\n",
    "    else:\n",
    "        stat, p_value = stats.kstest(data, 'norm', args=(np.mean(data), np.std(data)))\n",
    "        print(f'Kolmogorov-Smirnov Test: Statistics={stat}, p-value={p_value}')\n",
    "    if p_value > 0.05:\n",
    "        print(\"Our data is most likely from Normal distribution.\")\n",
    "    else:\n",
    "        print(\"Our data is not from Normal distribution.\")\n",
    "\n",
    "def qq_plot(data, title):\n",
    "    stats.probplot(data, dist=\"norm\", plot=plt)\n",
    "    plt.title(title)\n",
    "    plt.show()\n",
    "    \n",
    "def histogram(data):\n",
    "    fig, ax1 = plt.subplots()\n",
    "\n",
    "    sns.histplot(data, ax=ax1, color='blue', alpha=0.5)\n",
    "    ax1.set_xlabel(\"Score\")\n",
    "    ax1.set_ylabel(\"Frequency\", color='blue')\n",
    "\n",
    "    ax2 = ax1.twinx()\n",
    "    sns.kdeplot(data, ax=ax2, color='red', linewidth=2)\n",
    "    ax2.set_ylabel(\"KDE\", color='red')\n",
    "\n",
    "    ax1.grid(axis='y', linestyle='--', alpha=0.6)\n",
    "    ax2.grid(False)\n",
    "\n",
    "    plt.title(\"Score Distribution with KDE\")\n",
    "    plt.show()\n",
    "       \n",
    "def hypothesis_test(x, y, alternative):\n",
    "    if stats.shapiro(x)[1] > 0.05 and stats.shapiro(y)[1] > 0.05:\n",
    "        # IF both groups are normally distributed then we use student's t-test\n",
    "        stat, p = stats.ttest_ind(x, y, alternative=alternative)\n",
    "        print(f'T-test: Statistics={stat}, p-value={p}')\n",
    "    else:\n",
    "        # IF at least one group is not normally distributed we use Mann-Whitney U test\n",
    "        stat, p = stats.mannwhitneyu(x, y, alternative=alternative)\n",
    "        print(f'Mann-Whitney U Test: Statistics={stat}, p-value={p}')\n",
    "\n",
    "    if p > 0.05:\n",
    "        print(\"Fail to reject the null hypothesis (H0)\")\n",
    "    else:\n",
    "        print(\"Reject the null hypothesis (H0), accept the alternative hypothesis (H1)\")"
   ]
  },
  {
   "cell_type": "markdown",
   "id": "ff2f9371",
   "metadata": {},
   "source": [
    "## Directors testing"
   ]
  },
  {
   "cell_type": "markdown",
   "id": "5199e352",
   "metadata": {},
   "source": [
    "### Normality testing "
   ]
  },
  {
   "cell_type": "code",
   "execution_count": null,
   "id": "8dcdc276",
   "metadata": {},
   "outputs": [],
   "source": [
    "x = np.array(avg_ls_best.loc[:, 'avg_log_score'])  # Best directors avg_log_score\n",
    "y = np.array(avg_ls_worst.loc[:, 'avg_log_score'])  # Worst directors avg_log_score\n",
    "print(x.shape, y.shape)"
   ]
  },
  {
   "cell_type": "code",
   "execution_count": null,
   "id": "c5dbec63",
   "metadata": {},
   "outputs": [],
   "source": [
    "histogram(x)\n",
    "histogram(y)"
   ]
  },
  {
   "cell_type": "code",
   "execution_count": null,
   "id": "90f180c2",
   "metadata": {},
   "outputs": [],
   "source": [
    "print(\"Testing normality for x:\")\n",
    "test_normality(x)\n",
    "print(\"\\nTesting normality for y:\")\n",
    "test_normality(y)\n",
    "\n",
    "qq_plot(x, \"QQ Plot for x\")\n",
    "qq_plot(y, \"QQ Plot for y\")"
   ]
  },
  {
   "cell_type": "markdown",
   "id": "7fbe23c4",
   "metadata": {},
   "source": [
    "### Hypothesis testing (H0: μx <= μy vs. H1: μx > μy)"
   ]
  },
  {
   "cell_type": "code",
   "execution_count": null,
   "id": "dce5ccd5",
   "metadata": {},
   "outputs": [],
   "source": [
    "hypothesis_test(x, y, 'greater')"
   ]
  },
  {
   "cell_type": "markdown",
   "id": "86b1bf64",
   "metadata": {},
   "source": [
    "## Translation testing"
   ]
  },
  {
   "cell_type": "markdown",
   "id": "5e778116",
   "metadata": {},
   "source": [
    "### Normality testing"
   ]
  },
  {
   "cell_type": "code",
   "execution_count": null,
   "id": "3e80d530",
   "metadata": {},
   "outputs": [],
   "source": [
    "preklad_median = np.median(df_film_stats['pocet_prekladov'])\n",
    "print(preklad_median)"
   ]
  },
  {
   "cell_type": "code",
   "execution_count": null,
   "id": "71724964",
   "metadata": {},
   "outputs": [],
   "source": [
    "#median prekladov = 3\n",
    "malo_prekladov = df_film_stats[df_film_stats['pocet_prekladov'] <= 3]\n",
    "vela_prekladov = df_film_stats[df_film_stats['pocet_prekladov'] > 3]\n",
    "print(malo_prekladov.shape, vela_prekladov.shape)"
   ]
  },
  {
   "cell_type": "code",
   "execution_count": null,
   "id": "678d6395",
   "metadata": {},
   "outputs": [],
   "source": [
    "histogram(malo_prekladov['log_score'])\n",
    "histogram(vela_prekladov['log_score'])"
   ]
  },
  {
   "cell_type": "code",
   "execution_count": null,
   "id": "cb3c8bf5",
   "metadata": {},
   "outputs": [],
   "source": [
    "print(\"Testing normality for x:\")\n",
    "test_normality(malo_prekladov['log_score'])\n",
    "print(\"\\nTesting normality for y:\")\n",
    "test_normality(vela_prekladov['log_score'])\n",
    "\n",
    "qq_plot(malo_prekladov['log_score'], \"QQ Plot for x\")\n",
    "qq_plot(vela_prekladov['log_score'], \"QQ Plot for y\")"
   ]
  },
  {
   "cell_type": "markdown",
   "id": "37131d7c",
   "metadata": {},
   "source": [
    "### Hypothesis testing (H0: μx >= μy vs. H1: μx < μy)"
   ]
  },
  {
   "cell_type": "code",
   "execution_count": null,
   "id": "b6b9c196",
   "metadata": {},
   "outputs": [],
   "source": [
    "hypothesis_test(malo_prekladov['log_score'], vela_prekladov['log_score'], 'less')"
   ]
  },
  {
   "cell_type": "markdown",
   "id": "48c535ba",
   "metadata": {},
   "source": [
    "## Visualisation and analysis"
   ]
  },
  {
   "cell_type": "markdown",
   "id": "092ba41b",
   "metadata": {},
   "source": [
    "### Functions"
   ]
  },
  {
   "cell_type": "code",
   "execution_count": null,
   "id": "c8f27c07",
   "metadata": {},
   "outputs": [],
   "source": [
    "def diff_of_avg_log(data, analyzed_data, title):\n",
    "    \n",
    "    data_mean = np.mean(data['log_score'])\n",
    "    data = data.reset_index()\n",
    "    data.rename(columns={'index': 'tconst'}, inplace=True)\n",
    "    excluded_data = data[~data['tconst'].isin(analyzed_data['tconst'])]\n",
    "    excluded_data_mean = np.mean(excluded_data['log_score'])\n",
    "    \n",
    "    diff = excluded_data_mean - data_mean\n",
    "    result = - round(diff / data_mean * 100, 2)\n",
    "    \n",
    "    plt.figure(figsize=(10, 6))\n",
    "\n",
    "    # Plotting the first dataset\n",
    "    sns.scatterplot(x='startYear', y='log_score', data=data, hue=0.5, label='All data')\n",
    "\n",
    "    # Plotting the second dataset\n",
    "    sns.scatterplot(x='startYear', y='log_score', data=data[data['tconst'].isin(analyzed_data['tconst'])], \n",
    "                    color='red', label='Excluded data')\n",
    "\n",
    "    plt.axhline(y=data_mean, color='blue', linestyle='--', label='Threshold')\n",
    "\n",
    "    # Adding labels and title\n",
    "    plt.xlabel('Start Year')\n",
    "    plt.ylabel('Log Score')\n",
    "    plt.title(title)\n",
    "\n",
    "    # Display the plot\n",
    "    plt.legend()\n",
    "    plt.show()\n",
    "    \n",
    "    if diff >= 0:\n",
    "        return print(f\"Analyzed movies had negative or no impact on the mean log_score of the whole data.\\nThe significance of the impact is {result}%.\")\n",
    "    else:\n",
    "        return print(f\"Analyzed movies had a positive impact on the mean log_score of the whole data.\\nThe significance of the impact is {result}%.\")\n"
   ]
  },
  {
   "cell_type": "markdown",
   "id": "9fae6650",
   "metadata": {},
   "source": [
    "### Greatest Actors"
   ]
  },
  {
   "cell_type": "code",
   "execution_count": null,
   "id": "398c67c3",
   "metadata": {},
   "outputs": [],
   "source": [
    "diff_of_avg_log(df_film_stats, df_films_with_top_actors, 'Movies with the greatest Actors')"
   ]
  },
  {
   "cell_type": "markdown",
   "id": "08cb3d1b",
   "metadata": {},
   "source": [
    "### Disabilities"
   ]
  },
  {
   "cell_type": "code",
   "execution_count": null,
   "id": "b9ff61d0",
   "metadata": {},
   "outputs": [],
   "source": [
    "diff_of_avg_log(df_film_stats, df_disability, 'Movies in which the main character has a disability')"
   ]
  },
  {
   "cell_type": "markdown",
   "id": "c0c85261",
   "metadata": {},
   "source": [
    "### Adults"
   ]
  },
  {
   "cell_type": "code",
   "execution_count": null,
   "id": "ad103331",
   "metadata": {},
   "outputs": [],
   "source": [
    "adult_data = df_film_stats[df_film_stats['isAdult'] == 1].reset_index()\n",
    "adult_data.rename(columns={'index': 'tconst'}, inplace=True)\n",
    "diff_of_avg_log(df_film_stats, adult_data, 'Movies which are for adults')"
   ]
  },
  {
   "cell_type": "code",
   "execution_count": null,
   "id": "b43c4078",
   "metadata": {},
   "outputs": [],
   "source": []
  }
 ],
 "metadata": {
  "kernelspec": {
   "display_name": "Python 3 (ipykernel)",
   "language": "python",
   "name": "python3"
  },
  "language_info": {
   "codemirror_mode": {
    "name": "ipython",
    "version": 3
   },
   "file_extension": ".py",
   "mimetype": "text/x-python",
   "name": "python",
   "nbconvert_exporter": "python",
   "pygments_lexer": "ipython3",
   "version": "3.11.0"
  }
 },
 "nbformat": 4,
 "nbformat_minor": 5
}
